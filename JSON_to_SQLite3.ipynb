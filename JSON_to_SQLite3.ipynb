{
  "nbformat": 4,
  "nbformat_minor": 0,
  "metadata": {
    "colab": {
      "provenance": []
    },
    "kernelspec": {
      "name": "python3",
      "display_name": "Python 3"
    },
    "language_info": {
      "name": "python"
    }
  },
  "cells": [
    {
      "cell_type": "code",
      "execution_count": null,
      "metadata": {
        "id": "pNJyJemzXk9o"
      },
      "outputs": [],
      "source": [
        "import json\n",
        "import sqlite3\n",
        "import os\n"
      ]
    },
    {
      "cell_type": "code",
      "source": [
        "if not os.path.exists('collections.json'):\n",
        "  print(\"Please upload collections.jason file\")\n",
        "  from google.colab import files\n",
        "  uploaded = files.upload()\n",
        "else:\n",
        "  print(\"collections.json cache found\")  "
      ],
      "metadata": {
        "colab": {
          "base_uri": "https://localhost:8080/"
        },
        "id": "lLGLbjK7mcV7",
        "outputId": "573519a2-ac56-4972-b01a-f880eb530777"
      },
      "execution_count": null,
      "outputs": [
        {
          "output_type": "stream",
          "name": "stdout",
          "text": [
            "collections.json cache found\n"
          ]
        }
      ]
    },
    {
      "cell_type": "code",
      "source": [
        "# create databse file\n",
        "f = open('db.sqlite3',\"w\")\n",
        "f.close()\n",
        "\n",
        "# create connection object\n",
        "conn = sqlite3.connect('db.sqlite3')\n",
        "cur = conn.cursor()"
      ],
      "metadata": {
        "id": "ImgkTnZsmpR3"
      },
      "execution_count": null,
      "outputs": []
    },
    {
      "cell_type": "code",
      "source": [
        "print(\"Creating table NETL...Delete if it already exists...\")\n",
        "\n",
        "cur.executescript('''\n",
        "DROP TABLE IF EXISTS NETL;\n",
        "\n",
        "CREATE TABLE NETL (\n",
        "        id  INTEGER NOT NULL PRIMARY KEY AUTOINCREMENT UNIQUE,\n",
        "        publish_date TEXT,\n",
        "        source TEXT,\n",
        "        title TEXT,\n",
        "        description LONGTEXT,\n",
        "        summary TEXT\n",
        ");\n",
        "''')"
      ],
      "metadata": {
        "colab": {
          "base_uri": "https://localhost:8080/"
        },
        "id": "WXC3B0LQm1Cg",
        "outputId": "3839ebd2-1bb6-42e0-d562-1e8df4ad6a12"
      },
      "execution_count": null,
      "outputs": [
        {
          "output_type": "stream",
          "name": "stdout",
          "text": [
            "Creating table NETL...Delete if it already exists...\n"
          ]
        },
        {
          "output_type": "execute_result",
          "data": {
            "text/plain": [
              "<sqlite3.Cursor at 0x7f5500d3dd50>"
            ]
          },
          "metadata": {},
          "execution_count": 35
        }
      ]
    },
    {
      "cell_type": "code",
      "source": [
        " #check if the collections.json file exists\n",
        "\n",
        "print(\"Checking if collections.json file exists...\")\n",
        "\n",
        "fname = 'collections.json'\n",
        "\n",
        "if os.path.exists(fname) == False:\n",
        "        print('collections.json file does not exist')\n",
        "        quit()"
      ],
      "metadata": {
        "colab": {
          "base_uri": "https://localhost:8080/"
        },
        "id": "K3ewaisynGEv",
        "outputId": "a11d1dd4-880e-4cab-b010-26908db3b17e"
      },
      "execution_count": null,
      "outputs": [
        {
          "output_type": "stream",
          "name": "stdout",
          "text": [
            "Checking if collections.json file exists...\n"
          ]
        }
      ]
    },
    {
      "cell_type": "code",
      "source": [
        "# read the collections.json file and insert the data into the database\n",
        "\n",
        "str_data = open(fname).read()\n",
        "json_data = json.loads(str_data)\n",
        "\n",
        "print(\"Inserting data into the database...\")\n",
        "\n",
        "for entry in json_data:\n",
        "        publish_date = entry['publish_date']\n",
        "        source = \"NETL\"\n",
        "        title = entry['title']\n",
        "        description = entry['description']\n",
        "        summary= entry['summary']\n",
        "        cur.execute('''INSERT OR IGNORE INTO NETL(publish_date, source, title, description, summary)\n",
        "                VALUES ( ?, ?, ?, ?, ?)''', ( publish_date, source, title, description, summary) )\n",
        "\n",
        "        conn.commit()\n",
        "\n",
        "print(\"Done!\")\n",
        "\n",
        "conn.close()"
      ],
      "metadata": {
        "colab": {
          "base_uri": "https://localhost:8080/"
        },
        "id": "xdNdZk3bneZW",
        "outputId": "06fab63d-942c-4a09-dc9a-fdaaa7742682"
      },
      "execution_count": null,
      "outputs": [
        {
          "output_type": "stream",
          "name": "stdout",
          "text": [
            "Inserting data into the database...\n",
            "Done!\n"
          ]
        }
      ]
    },
    {
      "cell_type": "code",
      "source": [
        "from google.colab import files\n",
        "files.download('db.sqlite3')"
      ],
      "metadata": {
        "colab": {
          "base_uri": "https://localhost:8080/",
          "height": 17
        },
        "id": "KT57NLlIsoAy",
        "outputId": "0ffcb11d-c260-4ca7-b06d-f2c05702d8c2"
      },
      "execution_count": null,
      "outputs": [
        {
          "output_type": "display_data",
          "data": {
            "text/plain": [
              "<IPython.core.display.Javascript object>"
            ],
            "application/javascript": [
              "\n",
              "    async function download(id, filename, size) {\n",
              "      if (!google.colab.kernel.accessAllowed) {\n",
              "        return;\n",
              "      }\n",
              "      const div = document.createElement('div');\n",
              "      const label = document.createElement('label');\n",
              "      label.textContent = `Downloading \"${filename}\": `;\n",
              "      div.appendChild(label);\n",
              "      const progress = document.createElement('progress');\n",
              "      progress.max = size;\n",
              "      div.appendChild(progress);\n",
              "      document.body.appendChild(div);\n",
              "\n",
              "      const buffers = [];\n",
              "      let downloaded = 0;\n",
              "\n",
              "      const channel = await google.colab.kernel.comms.open(id);\n",
              "      // Send a message to notify the kernel that we're ready.\n",
              "      channel.send({})\n",
              "\n",
              "      for await (const message of channel.messages) {\n",
              "        // Send a message to notify the kernel that we're ready.\n",
              "        channel.send({})\n",
              "        if (message.buffers) {\n",
              "          for (const buffer of message.buffers) {\n",
              "            buffers.push(buffer);\n",
              "            downloaded += buffer.byteLength;\n",
              "            progress.value = downloaded;\n",
              "          }\n",
              "        }\n",
              "      }\n",
              "      const blob = new Blob(buffers, {type: 'application/binary'});\n",
              "      const a = document.createElement('a');\n",
              "      a.href = window.URL.createObjectURL(blob);\n",
              "      a.download = filename;\n",
              "      div.appendChild(a);\n",
              "      a.click();\n",
              "      div.remove();\n",
              "    }\n",
              "  "
            ]
          },
          "metadata": {}
        },
        {
          "output_type": "display_data",
          "data": {
            "text/plain": [
              "<IPython.core.display.Javascript object>"
            ],
            "application/javascript": [
              "download(\"download_65c468b7-e90c-489b-b62f-d23a4285bd76\", \"db.sqlite3\", 5263360)"
            ]
          },
          "metadata": {}
        }
      ]
    }
  ]
}